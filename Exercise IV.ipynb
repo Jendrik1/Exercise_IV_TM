{
 "cells": [
  {
   "cell_type": "markdown",
   "id": "26548c0d",
   "metadata": {},
   "source": [
    "### Exercise IV: Interpretation of Regression Output ###\n",
    "\n",
    "Given the following output of a linear regression model, interpret its coefficients in terms of a change in the dependent variable."
   ]
  },
  {
   "cell_type": "code",
   "execution_count": null,
   "id": "0930daff",
   "metadata": {},
   "outputs": [],
   "source": [
    "import numpy as np\n",
    "import pandas as pd\n",
    "import matplotlib as mpl\n",
    "import statsmodels\n",
    "\n",
    "df = pd.read_csv('ModifiedData.csv', sep=';')"
   ]
  },
  {
   "cell_type": "raw",
   "id": "7ab55864",
   "metadata": {},
   "source": [
    "                            OLS Regression Results                            \n",
    "==============================================================================\n",
    "Dep. Variable:                 income   R-squared:                       0.897\n",
    "Model:                            OLS   Adj. R-squared:                  0.897\n",
    "Method:                 Least Squares   F-statistic:                     2171.\n",
    "Date:                Thu, 13 Jul 2023   Prob (F-statistic):               0.00\n",
    "Time:                        13:04:44   Log-Likelihood:                -9921.5\n",
    "No. Observations:                1000   AIC:                         1.985e+04\n",
    "Df Residuals:                     995   BIC:                         1.988e+04\n",
    "Df Model:                           4                                         \n",
    "Covariance Type:            nonrobust                                         \n",
    "======================================================================================\n",
    "                         coef    std err          t      P>|t|      [0.025      0.975]\n",
    "--------------------------------------------------------------------------------------\n",
    "const               1649.2718    944.136      1.747      0.081    -203.455    3501.998\n",
    "age                  997.8142     10.810     92.306      0.000     976.601    1019.027\n",
    "education_years      444.7140     34.949     12.725      0.000     376.131     513.297\n",
    "log_hours_per_week  -241.2646    190.930     -1.264      0.207    -615.935     133.406\n",
    "gender_Male         -149.5147    312.935     -0.478      0.633    -763.603     464.574\n",
    "==============================================================================\n",
    "Omnibus:                        1.064   Durbin-Watson:                   2.002\n",
    "Prob(Omnibus):                  0.588   Jarque-Bera (JB):                0.936\n",
    "Skew:                          -0.060   Prob(JB):                        0.626\n",
    "Kurtosis:                       3.089   Cond. No.                         294.\n",
    "==============================================================================\n",
    "\n",
    "Notes:\n",
    "[1] Standard Errors assume that the covariance matrix of the errors is correctly specified."
   ]
  },
  {
   "cell_type": "markdown",
   "id": "5360f650",
   "metadata": {},
   "source": [
    "#### Assistance provided by LLM: ###\n",
    "age: The coefficient for age represents the expected change in income for a one-year increase in age, assuming all other variables are held constant.\n",
    "\n",
    "education_years: The coefficient for education_years represents the expected change in income for each additional year of education, assuming all other variables are held constant.\n",
    "\n",
    "log_hours_per_week: The coefficient for log_hours_per_week represents the expected change in income for a 1% increase in hours worked per week, assuming all other variables are held constant.\n",
    "\n",
    "gender_Male: The coefficient for gender_Male represents the average difference in income for males compared to females, assuming all other variables are held constant.\n",
    "\n",
    "Remember, these interpretations are derived from a linear regression model, which assumes a linear relationship between the predictors and the outcome. The actual relationship may be more complex, and these interpretations should be considered within the broader context of the data."
   ]
  },
  {
   "cell_type": "code",
   "execution_count": null,
   "id": "1547e82f",
   "metadata": {},
   "outputs": [],
   "source": [
    "# What you type in here will not be saved! Please copy your final code onto the main page\n",
    "# Your TEMPORARY solution here:"
   ]
  }
 ],
 "metadata": {
  "kernelspec": {
   "display_name": "mainenv",
   "language": "python",
   "name": "mainenv"
  },
  "language_info": {
   "codemirror_mode": {
    "name": "ipython",
    "version": 3
   },
   "file_extension": ".py",
   "mimetype": "text/x-python",
   "name": "python",
   "nbconvert_exporter": "python",
   "pygments_lexer": "ipython3",
   "version": "3.11.3"
  }
 },
 "nbformat": 4,
 "nbformat_minor": 5
}
